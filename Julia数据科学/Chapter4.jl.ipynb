{
 "cells": [
  {
   "cell_type": "code",
   "execution_count": 2,
   "metadata": {},
   "outputs": [],
   "source": [
    "using DataFrames"
   ]
  },
  {
   "cell_type": "code",
   "execution_count": 3,
   "metadata": {},
   "outputs": [
    {
     "ename": "UndefVarError",
     "evalue": "UndefVarError: `grades_2020` not defined in `Main`\nSuggestion: check for spelling errors or missing imports.",
     "output_type": "error",
     "traceback": [
      "UndefVarError: `grades_2020` not defined in `Main`\n",
      "Suggestion: check for spelling errors or missing imports.\n"
     ]
    }
   ],
   "source": [
    "grades_2020"
   ]
  },
  {
   "cell_type": "code",
   "execution_count": 4,
   "metadata": {},
   "outputs": [
    {
     "data": {
      "text/html": [
       "<div><div style = \"float: left;\"><span>10×3 DataFrame</span></div><div style = \"clear: both;\"></div></div><div class = \"data-frame\" style = \"overflow-x: scroll;\"><table class = \"data-frame\" style = \"margin-bottom: 6px;\"><thead><tr class = \"header\"><th class = \"rowNumber\" style = \"font-weight: bold; text-align: right;\">Row</th><th style = \"text-align: left;\">c1</th><th style = \"text-align: left;\">c2</th><th style = \"text-align: left;\">c3</th></tr><tr class = \"subheader headerLastRow\"><th class = \"rowNumber\" style = \"font-weight: bold; text-align: right;\"></th><th title = \"Int64\" style = \"text-align: left;\">Int64</th><th title = \"Int64\" style = \"text-align: left;\">Int64</th><th title = \"Int64\" style = \"text-align: left;\">Int64</th></tr></thead><tbody><tr><td class = \"rowNumber\" style = \"font-weight: bold; text-align: right;\">1</td><td style = \"text-align: right;\">1</td><td style = \"text-align: right;\">11</td><td style = \"text-align: right;\">21</td></tr><tr><td class = \"rowNumber\" style = \"font-weight: bold; text-align: right;\">2</td><td style = \"text-align: right;\">2</td><td style = \"text-align: right;\">12</td><td style = \"text-align: right;\">22</td></tr><tr><td class = \"rowNumber\" style = \"font-weight: bold; text-align: right;\">3</td><td style = \"text-align: right;\">3</td><td style = \"text-align: right;\">13</td><td style = \"text-align: right;\">23</td></tr><tr><td class = \"rowNumber\" style = \"font-weight: bold; text-align: right;\">4</td><td style = \"text-align: right;\">4</td><td style = \"text-align: right;\">14</td><td style = \"text-align: right;\">24</td></tr><tr><td class = \"rowNumber\" style = \"font-weight: bold; text-align: right;\">5</td><td style = \"text-align: right;\">5</td><td style = \"text-align: right;\">15</td><td style = \"text-align: right;\">25</td></tr><tr><td class = \"rowNumber\" style = \"font-weight: bold; text-align: right;\">6</td><td style = \"text-align: right;\">6</td><td style = \"text-align: right;\">16</td><td style = \"text-align: right;\">26</td></tr><tr><td class = \"rowNumber\" style = \"font-weight: bold; text-align: right;\">7</td><td style = \"text-align: right;\">7</td><td style = \"text-align: right;\">17</td><td style = \"text-align: right;\">27</td></tr><tr><td class = \"rowNumber\" style = \"font-weight: bold; text-align: right;\">8</td><td style = \"text-align: right;\">8</td><td style = \"text-align: right;\">18</td><td style = \"text-align: right;\">28</td></tr><tr><td class = \"rowNumber\" style = \"font-weight: bold; text-align: right;\">9</td><td style = \"text-align: right;\">9</td><td style = \"text-align: right;\">19</td><td style = \"text-align: right;\">29</td></tr><tr><td class = \"rowNumber\" style = \"font-weight: bold; text-align: right;\">10</td><td style = \"text-align: right;\">10</td><td style = \"text-align: right;\">20</td><td style = \"text-align: right;\">30</td></tr></tbody></table></div>"
      ],
      "text/latex": [
       "\\begin{tabular}{r|ccc}\n",
       "\t& c1 & c2 & c3\\\\\n",
       "\t\\hline\n",
       "\t& Int64 & Int64 & Int64\\\\\n",
       "\t\\hline\n",
       "\t1 & 1 & 11 & 21 \\\\\n",
       "\t2 & 2 & 12 & 22 \\\\\n",
       "\t3 & 3 & 13 & 23 \\\\\n",
       "\t4 & 4 & 14 & 24 \\\\\n",
       "\t5 & 5 & 15 & 25 \\\\\n",
       "\t6 & 6 & 16 & 26 \\\\\n",
       "\t7 & 7 & 17 & 27 \\\\\n",
       "\t8 & 8 & 18 & 28 \\\\\n",
       "\t9 & 9 & 19 & 29 \\\\\n",
       "\t10 & 10 & 20 & 30 \\\\\n",
       "\\end{tabular}\n"
      ],
      "text/plain": [
       "\u001b[1m10×3 DataFrame\u001b[0m\n",
       "\u001b[1m Row \u001b[0m│\u001b[1m c1    \u001b[0m\u001b[1m c2    \u001b[0m\u001b[1m c3    \u001b[0m\n",
       "     │\u001b[90m Int64 \u001b[0m\u001b[90m Int64 \u001b[0m\u001b[90m Int64 \u001b[0m\n",
       "─────┼─────────────────────\n",
       "   1 │     1     11     21\n",
       "   2 │     2     12     22\n",
       "   3 │     3     13     23\n",
       "   4 │     4     14     24\n",
       "   5 │     5     15     25\n",
       "   6 │     6     16     26\n",
       "   7 │     7     17     27\n",
       "   8 │     8     18     28\n",
       "   9 │     9     19     29\n",
       "  10 │    10     20     30"
      ]
     },
     "metadata": {},
     "output_type": "display_data"
    }
   ],
   "source": [
    "# 使用数组来创建数据框\n",
    "column1 = collect(1:10)\n",
    "column2 = collect(11:20)\n",
    "column3 = collect(21:30)\n",
    "\n",
    "df = DataFrame(\n",
    "    c1=column1,\n",
    "    c2=column2,\n",
    "    c3=column3\n",
    ")"
   ]
  },
  {
   "cell_type": "code",
   "execution_count": 5,
   "metadata": {},
   "outputs": [],
   "source": [
    "# 使用字典来创建数据框"
   ]
  },
  {
   "cell_type": "code",
   "execution_count": 6,
   "metadata": {},
   "outputs": [
    {
     "data": {
      "text/html": [
       "<div><div style = \"float: left;\"><span>3×3 DataFrame</span></div><div style = \"clear: both;\"></div></div><div class = \"data-frame\" style = \"overflow-x: scroll;\"><table class = \"data-frame\" style = \"margin-bottom: 6px;\"><thead><tr class = \"header\"><th class = \"rowNumber\" style = \"font-weight: bold; text-align: right;\">Row</th><th style = \"text-align: left;\">age</th><th style = \"text-align: left;\">name</th><th style = \"text-align: left;\">remark</th></tr><tr class = \"subheader headerLastRow\"><th class = \"rowNumber\" style = \"font-weight: bold; text-align: right;\"></th><th title = \"Int64\" style = \"text-align: left;\">Int64</th><th title = \"String\" style = \"text-align: left;\">String</th><th title = \"Int64\" style = \"text-align: left;\">Int64</th></tr></thead><tbody><tr><td class = \"rowNumber\" style = \"font-weight: bold; text-align: right;\">1</td><td style = \"text-align: right;\">31</td><td style = \"text-align: left;\">Alison</td><td style = \"text-align: right;\">100</td></tr><tr><td class = \"rowNumber\" style = \"font-weight: bold; text-align: right;\">2</td><td style = \"text-align: right;\">30</td><td style = \"text-align: left;\">Bee</td><td style = \"text-align: right;\">98</td></tr><tr><td class = \"rowNumber\" style = \"font-weight: bold; text-align: right;\">3</td><td style = \"text-align: right;\">29</td><td style = \"text-align: left;\">Cate</td><td style = \"text-align: right;\">65</td></tr></tbody></table></div>"
      ],
      "text/latex": [
       "\\begin{tabular}{r|ccc}\n",
       "\t& age & name & remark\\\\\n",
       "\t\\hline\n",
       "\t& Int64 & String & Int64\\\\\n",
       "\t\\hline\n",
       "\t1 & 31 & Alison & 100 \\\\\n",
       "\t2 & 30 & Bee & 98 \\\\\n",
       "\t3 & 29 & Cate & 65 \\\\\n",
       "\\end{tabular}\n"
      ],
      "text/plain": [
       "\u001b[1m3×3 DataFrame\u001b[0m\n",
       "\u001b[1m Row \u001b[0m│\u001b[1m age   \u001b[0m\u001b[1m name   \u001b[0m\u001b[1m remark \u001b[0m\n",
       "     │\u001b[90m Int64 \u001b[0m\u001b[90m String \u001b[0m\u001b[90m Int64  \u001b[0m\n",
       "─────┼───────────────────────\n",
       "   1 │    31  Alison     100\n",
       "   2 │    30  Bee         98\n",
       "   3 │    29  Cate        65"
      ]
     },
     "metadata": {},
     "output_type": "display_data"
    }
   ],
   "source": [
    "\n",
    "# 方法1\n",
    "DataFrame(\n",
    "    Dict(\n",
    "        \"name\" => [\"Alison\", \"Bee\", \"Cate\"],\n",
    "        \"age\" => [31, 30, 29],\n",
    "        \"remark\" => [100, 98, 65]\n",
    "    )\n",
    ")"
   ]
  },
  {
   "cell_type": "code",
   "execution_count": 7,
   "metadata": {},
   "outputs": [
    {
     "data": {
      "text/html": [
       "<div><div style = \"float: left;\"><span>3×3 DataFrame</span></div><div style = \"clear: both;\"></div></div><div class = \"data-frame\" style = \"overflow-x: scroll;\"><table class = \"data-frame\" style = \"margin-bottom: 6px;\"><thead><tr class = \"header\"><th class = \"rowNumber\" style = \"font-weight: bold; text-align: right;\">Row</th><th style = \"text-align: left;\">name</th><th style = \"text-align: left;\">remark</th><th style = \"text-align: left;\">age</th></tr><tr class = \"subheader headerLastRow\"><th class = \"rowNumber\" style = \"font-weight: bold; text-align: right;\"></th><th title = \"String\" style = \"text-align: left;\">String</th><th title = \"Int64\" style = \"text-align: left;\">Int64</th><th title = \"Int64\" style = \"text-align: left;\">Int64</th></tr></thead><tbody><tr><td class = \"rowNumber\" style = \"font-weight: bold; text-align: right;\">1</td><td style = \"text-align: left;\">Alison</td><td style = \"text-align: right;\">100</td><td style = \"text-align: right;\">21</td></tr><tr><td class = \"rowNumber\" style = \"font-weight: bold; text-align: right;\">2</td><td style = \"text-align: left;\">Bee</td><td style = \"text-align: right;\">65</td><td style = \"text-align: right;\">31</td></tr><tr><td class = \"rowNumber\" style = \"font-weight: bold; text-align: right;\">3</td><td style = \"text-align: left;\">Cate</td><td style = \"text-align: right;\">98</td><td style = \"text-align: right;\">39</td></tr></tbody></table></div>"
      ],
      "text/latex": [
       "\\begin{tabular}{r|ccc}\n",
       "\t& name & remark & age\\\\\n",
       "\t\\hline\n",
       "\t& String & Int64 & Int64\\\\\n",
       "\t\\hline\n",
       "\t1 & Alison & 100 & 21 \\\\\n",
       "\t2 & Bee & 65 & 31 \\\\\n",
       "\t3 & Cate & 98 & 39 \\\\\n",
       "\\end{tabular}\n"
      ],
      "text/plain": [
       "\u001b[1m3×3 DataFrame\u001b[0m\n",
       "\u001b[1m Row \u001b[0m│\u001b[1m name   \u001b[0m\u001b[1m remark \u001b[0m\u001b[1m age   \u001b[0m\n",
       "     │\u001b[90m String \u001b[0m\u001b[90m Int64  \u001b[0m\u001b[90m Int64 \u001b[0m\n",
       "─────┼───────────────────────\n",
       "   1 │ Alison     100     21\n",
       "   2 │ Bee         65     31\n",
       "   3 │ Cate        98     39"
      ]
     },
     "metadata": {},
     "output_type": "display_data"
    }
   ],
   "source": [
    "# 使用字典数组来创造数据框\n",
    "df = DataFrame([\n",
    "    Dict(\"name\"=>\"Alison\", \"age\"=>21, \"remark\"=>100),\n",
    "    Dict(\"name\"=>\"Bee\", \"age\"=>31, \"remark\"=>65),\n",
    "    Dict(\"name\"=>\"Cate\", \"age\"=>39, \"remark\"=>98)\n",
    "])"
   ]
  },
  {
   "cell_type": "code",
   "execution_count": 15,
   "metadata": {},
   "outputs": [],
   "source": [
    "using   CSV\n",
    "using   XLSX"
   ]
  },
  {
   "cell_type": "code",
   "execution_count": 17,
   "metadata": {},
   "outputs": [
    {
     "ename": "MethodError",
     "evalue": "MethodError: no method matching table(::DataFrame)\nThe function `table` exists, but no method is defined for this combination of argument types.\n\nClosest candidates are:\n  table(!Matched::AbstractVecOrMat; header)\n   @ Tables C:\\Users\\Administrator\\.julia\\packages\\Tables\\8p03y\\src\\matrix.jl:65\n",
     "output_type": "error",
     "traceback": [
      "MethodError: no method matching table(::DataFrame)\n",
      "The function `table` exists, but no method is defined for this combination of argument types.\n",
      "\n",
      "Closest candidates are:\n",
      "  table(!Matched::AbstractVecOrMat; header)\n",
      "   @ Tables C:\\Users\\Administrator\\.julia\\packages\\Tables\\8p03y\\src\\matrix.jl:65\n",
      "\n",
      "\n",
      "Stacktrace:\n",
      " [1] top-level scope\n",
      "   @ e:\\notebooks\\Julia数据科学\\jl_notebook_cell_df34fa98e69747e1a8f8a730347b8e2f_X10sZmlsZQ==.jl:6"
     ]
    }
   ],
   "source": [
    "# 保存为tsv文件\n",
    "CSV.write(\"test.tsv\", df, delim=\"\\t\")\n",
    "# 保存为csv文件\n",
    "CSV.write(\"test.csv\", df, slim=\",\")\n",
    "# 保存为xlsx文件\n",
    "XLSX.write(\"test.xlsx\", Tables.table(df))\n",
    "\n"
   ]
  },
  {
   "cell_type": "code",
   "execution_count": 20,
   "metadata": {},
   "outputs": [
    {
     "name": "stdout",
     "output_type": "stream",
     "text": [
      "DataFrame 已成功写入 output.xlsx 文件！\n"
     ]
    }
   ],
   "source": [
    "using DataFrames\n",
    "using XLSX\n",
    "\n",
    "# 创建一个示例数据框\n",
    "df = DataFrame(\n",
    "    Name = [\"Alice\", \"Bob\", \"Charlie\"],\n",
    "    Age = [25, 30, 35],\n",
    "    Score = [85.5, 92.0, 88.0]\n",
    ")\n",
    "\n",
    "# 保存数据框到 Excel 文件\n",
    "XLSX.openxlsx(\"output.xlsx\", mode=\"w\") do workbook\n",
    "    sheet = workbook[\"Sheet1\"]  # 自动创建或获取名为 \"Sheet1\" 的工作表\n",
    "    # 写入标题（列名）\n",
    "    for (col_idx, col_name) in enumerate(names(df))\n",
    "        sheet[1, col_idx] = col_name  # 第一行写入列名\n",
    "    end\n",
    "    # 写入数据\n",
    "    for (row_idx, row) in enumerate(eachrow(df))\n",
    "        for (col_idx, value) in enumerate(row)\n",
    "            sheet[row_idx + 1, col_idx] = value  # 从第二行开始写入数据\n",
    "        end\n",
    "    end\n",
    "end\n",
    "\n",
    "println(\"DataFrame 已成功写入 output.xlsx 文件！\")\n"
   ]
  },
  {
   "cell_type": "code",
   "execution_count": 58,
   "metadata": {},
   "outputs": [],
   "source": [
    "using   XLSX: writetable, openxlsx, readxlsx, sheetnames"
   ]
  },
  {
   "cell_type": "code",
   "execution_count": 55,
   "metadata": {},
   "outputs": [],
   "source": [
    "XLSX.writetable(\"report.xlsx\", \"REPORT_A\" => df, \"REPORT_B\" => df)"
   ]
  },
  {
   "cell_type": "code",
   "execution_count": 60,
   "metadata": {},
   "outputs": [
    {
     "data": {
      "text/plain": [
       "XLSXFile(\"report.xlsx\") containing 2 Worksheets\n",
       "            sheetname size          range        \n",
       "-------------------------------------------------\n",
       "             REPORT_A 4x3           A1:C4        \n",
       "             REPORT_B 4x3           A1:C4        \n"
      ]
     },
     "metadata": {},
     "output_type": "display_data"
    }
   ],
   "source": [
    "wb = readxlsx(\"report.xlsx\")"
   ]
  },
  {
   "cell_type": "code",
   "execution_count": 61,
   "metadata": {},
   "outputs": [
    {
     "data": {
      "text/plain": [
       "2-element Vector{String}:\n",
       " \"REPORT_A\"\n",
       " \"REPORT_B\""
      ]
     },
     "metadata": {},
     "output_type": "display_data"
    }
   ],
   "source": [
    "sheetnames(wb)"
   ]
  },
  {
   "cell_type": "code",
   "execution_count": 62,
   "metadata": {},
   "outputs": [
    {
     "data": {
      "text/plain": [
       "4×3 XLSX.Worksheet: [\"REPORT_A\"](A1:C4) "
      ]
     },
     "metadata": {},
     "output_type": "display_data"
    }
   ],
   "source": [
    "s1 = wb[\"REPORT_A\"]"
   ]
  },
  {
   "cell_type": "code",
   "execution_count": 63,
   "metadata": {},
   "outputs": [
    {
     "data": {
      "text/plain": [
       "4×3 XLSX.Worksheet: [\"REPORT_A\"](A1:C4) "
      ]
     },
     "metadata": {},
     "output_type": "display_data"
    }
   ],
   "source": [
    "s1"
   ]
  },
  {
   "cell_type": "code",
   "execution_count": 64,
   "metadata": {},
   "outputs": [
    {
     "data": {
      "text/plain": [
       "XLSX.Worksheet"
      ]
     },
     "metadata": {},
     "output_type": "display_data"
    }
   ],
   "source": [
    "typeof(s1)"
   ]
  },
  {
   "cell_type": "code",
   "execution_count": 65,
   "metadata": {},
   "outputs": [
    {
     "ename": "ArgumentError",
     "evalue": "ArgumentError: no default `Tables.columns` implementation for type: XLSX.Worksheet",
     "output_type": "error",
     "traceback": [
      "ArgumentError: no default `Tables.columns` implementation for type: XLSX.Worksheet\n",
      "\n",
      "Stacktrace:\n",
      " [1] _columns\n",
      "   @ C:\\Users\\Administrator\\.julia\\packages\\Tables\\8p03y\\src\\fallbacks.jl:276 [inlined]\n",
      " [2] columns\n",
      "   @ C:\\Users\\Administrator\\.julia\\packages\\Tables\\8p03y\\src\\fallbacks.jl:258 [inlined]\n",
      " [3] DataFrame(x::XLSX.Worksheet; copycols::Nothing)\n",
      "   @ DataFrames C:\\Users\\Administrator\\.julia\\packages\\DataFrames\\kcA9R\\src\\other\\tables.jl:57\n",
      " [4] DataFrame(x::XLSX.Worksheet)\n",
      "   @ DataFrames C:\\Users\\Administrator\\.julia\\packages\\DataFrames\\kcA9R\\src\\other\\tables.jl:48\n",
      " [5] top-level scope\n",
      "   @ e:\\notebooks\\Julia数据科学\\jl_notebook_cell_df34fa98e69747e1a8f8a730347b8e2f_X22sZmlsZQ==.jl:1"
     ]
    }
   ],
   "source": [
    "DataFrame(s1)"
   ]
  },
  {
   "cell_type": "code",
   "execution_count": 68,
   "metadata": {},
   "outputs": [
    {
     "data": {
      "text/html": [
       "<div><div style = \"float: left;\"><span>3×3 DataFrame</span></div><div style = \"clear: both;\"></div></div><div class = \"data-frame\" style = \"overflow-x: scroll;\"><table class = \"data-frame\" style = \"margin-bottom: 6px;\"><thead><tr class = \"header\"><th class = \"rowNumber\" style = \"font-weight: bold; text-align: right;\">Row</th><th style = \"text-align: left;\">Name</th><th style = \"text-align: left;\">Age</th><th style = \"text-align: left;\">Score</th></tr><tr class = \"subheader headerLastRow\"><th class = \"rowNumber\" style = \"font-weight: bold; text-align: right;\"></th><th title = \"Any\" style = \"text-align: left;\">Any</th><th title = \"Any\" style = \"text-align: left;\">Any</th><th title = \"Any\" style = \"text-align: left;\">Any</th></tr></thead><tbody><tr><td class = \"rowNumber\" style = \"font-weight: bold; text-align: right;\">1</td><td style = \"text-align: left;\">Alice</td><td style = \"text-align: left;\">25</td><td style = \"text-align: left;\">85.5</td></tr><tr><td class = \"rowNumber\" style = \"font-weight: bold; text-align: right;\">2</td><td style = \"text-align: left;\">Bob</td><td style = \"text-align: left;\">30</td><td style = \"text-align: left;\">92.0</td></tr><tr><td class = \"rowNumber\" style = \"font-weight: bold; text-align: right;\">3</td><td style = \"text-align: left;\">Charlie</td><td style = \"text-align: left;\">35</td><td style = \"text-align: left;\">88.0</td></tr></tbody></table></div>"
      ],
      "text/latex": [
       "\\begin{tabular}{r|ccc}\n",
       "\t& Name & Age & Score\\\\\n",
       "\t\\hline\n",
       "\t& Any & Any & Any\\\\\n",
       "\t\\hline\n",
       "\t1 & Alice & 25 & 85.5 \\\\\n",
       "\t2 & Bob & 30 & 92.0 \\\\\n",
       "\t3 & Charlie & 35 & 88.0 \\\\\n",
       "\\end{tabular}\n"
      ],
      "text/plain": [
       "\u001b[1m3×3 DataFrame\u001b[0m\n",
       "\u001b[1m Row \u001b[0m│\u001b[1m Name    \u001b[0m\u001b[1m Age \u001b[0m\u001b[1m Score \u001b[0m\n",
       "     │\u001b[90m Any     \u001b[0m\u001b[90m Any \u001b[0m\u001b[90m Any   \u001b[0m\n",
       "─────┼─────────────────────\n",
       "   1 │ Alice    25   85.5\n",
       "   2 │ Bob      30   92.0\n",
       "   3 │ Charlie  35   88.0"
      ]
     },
     "metadata": {},
     "output_type": "display_data"
    }
   ],
   "source": [
    "DataFrame(XLSX.readtable(\"report.xlsx\", \"REPORT_A\"))"
   ]
  },
  {
   "cell_type": "code",
   "execution_count": 69,
   "metadata": {},
   "outputs": [],
   "source": [
    "# 最常用的是readtable和writetable"
   ]
  },
  {
   "cell_type": "code",
   "execution_count": 72,
   "metadata": {},
   "outputs": [
    {
     "data": {
      "text/html": [
       "<div><div style = \"float: left;\"><span>3×3 DataFrame</span></div><div style = \"clear: both;\"></div></div><div class = \"data-frame\" style = \"overflow-x: scroll;\"><table class = \"data-frame\" style = \"margin-bottom: 6px;\"><thead><tr class = \"header\"><th class = \"rowNumber\" style = \"font-weight: bold; text-align: right;\">Row</th><th style = \"text-align: left;\">name</th><th style = \"text-align: left;\">remark</th><th style = \"text-align: left;\">age</th></tr><tr class = \"subheader headerLastRow\"><th class = \"rowNumber\" style = \"font-weight: bold; text-align: right;\"></th><th title = \"String7\" style = \"text-align: left;\">String7</th><th title = \"Int64\" style = \"text-align: left;\">Int64</th><th title = \"Int64\" style = \"text-align: left;\">Int64</th></tr></thead><tbody><tr><td class = \"rowNumber\" style = \"font-weight: bold; text-align: right;\">1</td><td style = \"text-align: left;\">Alison</td><td style = \"text-align: right;\">100</td><td style = \"text-align: right;\">21</td></tr><tr><td class = \"rowNumber\" style = \"font-weight: bold; text-align: right;\">2</td><td style = \"text-align: left;\">Bee</td><td style = \"text-align: right;\">65</td><td style = \"text-align: right;\">31</td></tr><tr><td class = \"rowNumber\" style = \"font-weight: bold; text-align: right;\">3</td><td style = \"text-align: left;\">Cate</td><td style = \"text-align: right;\">98</td><td style = \"text-align: right;\">39</td></tr></tbody></table></div>"
      ],
      "text/latex": [
       "\\begin{tabular}{r|ccc}\n",
       "\t& name & remark & age\\\\\n",
       "\t\\hline\n",
       "\t& String7 & Int64 & Int64\\\\\n",
       "\t\\hline\n",
       "\t1 & Alison & 100 & 21 \\\\\n",
       "\t2 & Bee & 65 & 31 \\\\\n",
       "\t3 & Cate & 98 & 39 \\\\\n",
       "\\end{tabular}\n"
      ],
      "text/plain": [
       "\u001b[1m3×3 DataFrame\u001b[0m\n",
       "\u001b[1m Row \u001b[0m│\u001b[1m name    \u001b[0m\u001b[1m remark \u001b[0m\u001b[1m age   \u001b[0m\n",
       "     │\u001b[90m String7 \u001b[0m\u001b[90m Int64  \u001b[0m\u001b[90m Int64 \u001b[0m\n",
       "─────┼────────────────────────\n",
       "   1 │ Alison      100     21\n",
       "   2 │ Bee          65     31\n",
       "   3 │ Cate         98     39"
      ]
     },
     "metadata": {},
     "output_type": "display_data"
    }
   ],
   "source": [
    "CSV.read(\"test.tsv\", DataFrame, delim=\"\\t\")"
   ]
  },
  {
   "cell_type": "code",
   "execution_count": 73,
   "metadata": {},
   "outputs": [
    {
     "data": {
      "text/plain": [
       "\"test1.tsv\""
      ]
     },
     "metadata": {},
     "output_type": "display_data"
    }
   ],
   "source": [
    "CSV.write(\"test1.tsv\", df, delim=\"\\t\")"
   ]
  },
  {
   "cell_type": "code",
   "execution_count": 74,
   "metadata": {},
   "outputs": [],
   "source": [
    "# CSV 中 常用的是read 和 write"
   ]
  },
  {
   "cell_type": "code",
   "execution_count": null,
   "metadata": {},
   "outputs": [],
   "source": []
  }
 ],
 "metadata": {
  "kernelspec": {
   "display_name": "Julia 1.11.1",
   "language": "julia",
   "name": "julia-1.11"
  },
  "language_info": {
   "file_extension": ".jl",
   "mimetype": "application/julia",
   "name": "julia",
   "version": "1.11.1"
  }
 },
 "nbformat": 4,
 "nbformat_minor": 2
}
