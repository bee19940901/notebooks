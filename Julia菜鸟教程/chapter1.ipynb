{
 "cells": [
  {
   "cell_type": "code",
   "execution_count": 1,
   "id": "f72d4250",
   "metadata": {},
   "outputs": [],
   "source": [
    " # Julia"
   ]
  },
  {
   "cell_type": "code",
   "execution_count": 2,
   "id": "ff22e0ea",
   "metadata": {},
   "outputs": [],
   "source": [
    "# 数组"
   ]
  },
  {
   "cell_type": "code",
   "execution_count": 3,
   "id": "6cfad807",
   "metadata": {},
   "outputs": [],
   "source": [
    "# 创建一个数组"
   ]
  },
  {
   "cell_type": "code",
   "execution_count": 4,
   "id": "d119ee99",
   "metadata": {},
   "outputs": [
    {
     "data": {
      "text/plain": [
       "5-element Vector{Int64}:\n",
       " 1\n",
       " 2\n",
       " 3\n",
       " 4\n",
       " 5"
      ]
     },
     "metadata": {},
     "output_type": "display_data"
    }
   ],
   "source": [
    "# 使用[]\n",
    "arr = [1, 2,3, 4,5]"
   ]
  },
  {
   "cell_type": "code",
   "execution_count": 12,
   "id": "fdc8f9b4",
   "metadata": {},
   "outputs": [
    {
     "data": {
      "text/plain": [
       "5-element Vector{Int64}:\n",
       " 0\n",
       " 1\n",
       " 1\n",
       " 0\n",
       " 0"
      ]
     },
     "metadata": {},
     "output_type": "display_data"
    }
   ],
   "source": [
    "# 使用Array构造函数\n",
    "# 声明一个长度为5，未初始化的一维整数数组\n",
    "# 这个方法产生的数组值都是随机的，只是起到占位的作用\n",
    "# 这个方法不是很常用\n",
    "arr1 = Array{Int, 1}(undef, 5)"
   ]
  },
  {
   "cell_type": "code",
   "execution_count": 13,
   "id": "80031be5",
   "metadata": {},
   "outputs": [
    {
     "data": {
      "text/plain": [
       "10-element Vector{Float64}:\n",
       " 1.0\n",
       " 1.0\n",
       " 1.0\n",
       " 1.0\n",
       " 1.0\n",
       " 1.0\n",
       " 1.0\n",
       " 1.0\n",
       " 1.0\n",
       " 1.0"
      ]
     },
     "metadata": {},
     "output_type": "display_data"
    }
   ],
   "source": [
    "# 使用ones函数生成一个全是1的数组\n",
    "arr2 = ones(10)"
   ]
  },
  {
   "cell_type": "code",
   "execution_count": 17,
   "id": "cae165ed",
   "metadata": {},
   "outputs": [
    {
     "data": {
      "text/plain": [
       "10-element Vector{Float64}:\n",
       " 0.0\n",
       " 0.0\n",
       " 0.0\n",
       " 0.0\n",
       " 0.0\n",
       " 0.0\n",
       " 0.0\n",
       " 0.0\n",
       " 0.0\n",
       " 0.0"
      ]
     },
     "metadata": {},
     "output_type": "display_data"
    }
   ],
   "source": [
    "# 使用zeros函数生成一个全是0的数组\n",
    "zeros(10)"
   ]
  },
  {
   "cell_type": "code",
   "execution_count": 24,
   "id": "161d2e2c",
   "metadata": {},
   "outputs": [
    {
     "data": {
      "text/plain": [
       "10-element Vector{Int64}:\n",
       "  1\n",
       "  2\n",
       "  3\n",
       "  4\n",
       "  5\n",
       "  6\n",
       "  7\n",
       "  8\n",
       "  9\n",
       " 10"
      ]
     },
     "metadata": {},
     "output_type": "display_data"
    }
   ],
   "source": [
    "# 使用collect函数生成一个范围数组\n",
    "collect(1:10)"
   ]
  },
  {
   "cell_type": "code",
   "execution_count": 25,
   "id": "33841027",
   "metadata": {},
   "outputs": [
    {
     "data": {
      "text/plain": [
       "5-element Vector{Float64}:\n",
       "  1.0\n",
       "  3.25\n",
       "  5.5\n",
       "  7.75\n",
       " 10.0"
      ]
     },
     "metadata": {},
     "output_type": "display_data"
    }
   ],
   "source": [
    "# 使用range和collect函数联合生成一个数组\n",
    "collect(range(1, stop=10, length=5))"
   ]
  },
  {
   "cell_type": "code",
   "execution_count": 26,
   "id": "058a701e",
   "metadata": {},
   "outputs": [],
   "source": [
    "# 数组的查询"
   ]
  },
  {
   "cell_type": "code",
   "execution_count": 27,
   "id": "7d26238c",
   "metadata": {},
   "outputs": [
    {
     "data": {
      "text/plain": [
       "5-element Vector{Int64}:\n",
       " 1\n",
       " 2\n",
       " 3\n",
       " 4\n",
       " 5"
      ]
     },
     "metadata": {},
     "output_type": "display_data"
    }
   ],
   "source": [
    "test_arr = collect(1:5)"
   ]
  },
  {
   "cell_type": "code",
   "execution_count": 28,
   "id": "fbaba5b9",
   "metadata": {},
   "outputs": [
    {
     "data": {
      "text/plain": [
       "3"
      ]
     },
     "metadata": {},
     "output_type": "display_data"
    }
   ],
   "source": [
    "# 使用索引直接访问元素\n",
    "test_arr[3] # 访问第三个元素"
   ]
  },
  {
   "cell_type": "code",
   "execution_count": 29,
   "id": "24cd872b",
   "metadata": {},
   "outputs": [
    {
     "data": {
      "text/plain": [
       "3-element Vector{Int64}:\n",
       " 1\n",
       " 2\n",
       " 3"
      ]
     },
     "metadata": {},
     "output_type": "display_data"
    }
   ],
   "source": [
    "# 使用切片访问一定范围内的元素\n",
    "test_arr[1:3]"
   ]
  },
  {
   "cell_type": "code",
   "execution_count": 31,
   "id": "292f28d5",
   "metadata": {},
   "outputs": [
    {
     "data": {
      "text/plain": [
       "3-element Vector{Int64}:\n",
       " 1\n",
       " 2\n",
       " 3"
      ]
     },
     "metadata": {},
     "output_type": "display_data"
    }
   ],
   "source": [
    "# 使用多个索引访问一个数组\n",
    "test_arr[[1,2,3]]"
   ]
  },
  {
   "cell_type": "code",
   "execution_count": 33,
   "id": "41252818",
   "metadata": {},
   "outputs": [
    {
     "data": {
      "text/plain": [
       "5"
      ]
     },
     "metadata": {},
     "output_type": "display_data"
    }
   ],
   "source": [
    "# 查询数组长度\n",
    "length(test_arr)"
   ]
  },
  {
   "cell_type": "code",
   "execution_count": 35,
   "id": "b20fa23a",
   "metadata": {},
   "outputs": [
    {
     "data": {
      "text/plain": [
       "4-element Vector{Int64}:\n",
       " 2\n",
       " 3\n",
       " 4\n",
       " 5"
      ]
     },
     "metadata": {},
     "output_type": "display_data"
    }
   ],
   "source": [
    "# 数组的条件查询，我感觉非常重要\n",
    "# 查询所有大于等于2的元素\n",
    "test_arr[test_arr .>= 2]"
   ]
  },
  {
   "cell_type": "code",
   "execution_count": null,
   "id": "cce802bf",
   "metadata": {},
   "outputs": [
    {
     "data": {
      "text/plain": [
       "1-element Vector{Int64}:\n",
       " 4"
      ]
     },
     "metadata": {},
     "output_type": "display_data"
    }
   ],
   "source": [
    "# findall 查询返回条件元素的索引\n",
    "findall(x -> x > 2, test_arr)\n",
    "# 更复杂的情况\n",
    "findall(x -> x > 3 && x % 2 ==0, test_arr)\n"
   ]
  },
  {
   "cell_type": "code",
   "execution_count": 40,
   "id": "b740c073",
   "metadata": {},
   "outputs": [
    {
     "data": {
      "text/plain": [
       "1-element Vector{Int64}:\n",
       " 4"
      ]
     },
     "metadata": {},
     "output_type": "display_data"
    }
   ],
   "source": [
    "# 或者直接再findall中使用函数\n",
    "function my_filter(x)\n",
    "    return x > 2 && x %2 ==0\n",
    "end\n",
    "findall(my_filter, test_arr )"
   ]
  },
  {
   "cell_type": "code",
   "execution_count": 41,
   "id": "2e8fc420",
   "metadata": {},
   "outputs": [
    {
     "data": {
      "text/plain": [
       "10-element Vector{Int64}:\n",
       " 11\n",
       " 94\n",
       " 25\n",
       " 27\n",
       " 14\n",
       " 79\n",
       " 60\n",
       " 94\n",
       " 57\n",
       " 52"
      ]
     },
     "metadata": {},
     "output_type": "display_data"
    }
   ],
   "source": [
    "# 创建一个由十个随机整数（1-100） 组成的数组\n",
    "arr = rand(1:100, 10)"
   ]
  },
  {
   "cell_type": "code",
   "execution_count": null,
   "id": "35876ce8",
   "metadata": {},
   "outputs": [
    {
     "data": {
      "text/plain": [
       "5-element Vector{Int64}:\n",
       " 94\n",
       " 14\n",
       " 60\n",
       " 94\n",
       " 52"
      ]
     },
     "metadata": {},
     "output_type": "display_data"
    }
   ],
   "source": [
    "# 找出数组中所有的偶数\n",
    "arr[findall(my_filter, arr)]"
   ]
  },
  {
   "cell_type": "code",
   "execution_count": 15,
   "id": "ae18913d",
   "metadata": {},
   "outputs": [
    {
     "data": {
      "text/plain": [
       "2-element Vector{String}:\n",
       " \"Bee\"\n",
       " \"Dex\""
      ]
     },
     "metadata": {},
     "output_type": "display_data"
    }
   ],
   "source": [
    "arr = [\n",
    "    \"Alison\",\n",
    "    \"Bee\",\n",
    "    \"Cate\",\n",
    "    \"Dex\",\n",
    "    \"Elise\",\n",
    "    \"Fisher\",\n",
    "    \"Gray\",\n",
    "    \"Harden\",\n",
    "    \"Ignore\"\n",
    "]\n",
    "\n",
    "# 使用匿名函数检查长度为 3 的元素\n",
    "result1 = arr[findall(x -> length(x) == 3, arr)]"
   ]
  },
  {
   "cell_type": "code",
   "execution_count": 32,
   "id": "49b88677",
   "metadata": {},
   "outputs": [
    {
     "data": {
      "text/plain": [
       "2-element Vector{String}:\n",
       " \"Bee\"\n",
       " \"Dex\""
      ]
     },
     "metadata": {},
     "output_type": "display_data"
    }
   ],
   "source": [
    "# Julia 中正则表达式的使用\n",
    "# 在 findall 中使用正则表达式\n",
    "# 查找名字长度为3\n",
    "arr[findall(x -> occursin(r\"^.{3}$\", x), arr)]"
   ]
  },
  {
   "cell_type": "code",
   "execution_count": 38,
   "id": "fd57c12c",
   "metadata": {},
   "outputs": [
    {
     "data": {
      "text/plain": [
       "11-element Vector{Int64}:\n",
       " 19\n",
       " 76\n",
       " 33\n",
       "  1\n",
       " 39\n",
       " 86\n",
       " 87\n",
       " 24\n",
       " 16\n",
       "  9\n",
       " 36"
      ]
     },
     "metadata": {},
     "output_type": "display_data"
    }
   ],
   "source": [
    "# 往数组中添加元素\n",
    "# 使用原地函数往数组末尾添加一个函数\n",
    "arr = rand(1:100, 10)\n",
    "push!(arr, 36)"
   ]
  },
  {
   "cell_type": "code",
   "execution_count": 39,
   "id": "1a598d59",
   "metadata": {},
   "outputs": [
    {
     "data": {
      "text/plain": [
       "14-element Vector{Int64}:\n",
       " 19\n",
       " 76\n",
       " 33\n",
       "  1\n",
       " 39\n",
       " 86\n",
       " 87\n",
       " 24\n",
       " 16\n",
       "  9\n",
       " 36\n",
       " 21\n",
       " 22\n",
       " 23"
      ]
     },
     "metadata": {},
     "output_type": "display_data"
    }
   ],
   "source": [
    "# 往一个数组的末尾添加一个数组\n",
    "append!(arr, [21,22,23])"
   ]
  },
  {
   "cell_type": "code",
   "execution_count": 42,
   "id": "25346264",
   "metadata": {},
   "outputs": [
    {
     "data": {
      "text/plain": [
       "15-element Vector{Int64}:\n",
       "  19\n",
       "  76\n",
       " 100\n",
       "  33\n",
       "   1\n",
       "  39\n",
       "  86\n",
       "  87\n",
       "  24\n",
       "  16\n",
       "   9\n",
       "  36\n",
       "  21\n",
       "  22\n",
       "  23"
      ]
     },
     "metadata": {},
     "output_type": "display_data"
    }
   ],
   "source": [
    "# 往数组中间插入一个元素\n",
    "insert!(arr, 3, 100)"
   ]
  },
  {
   "cell_type": "code",
   "execution_count": 65,
   "id": "c2907e0e",
   "metadata": {},
   "outputs": [
    {
     "data": {
      "text/plain": [
       "4"
      ]
     },
     "metadata": {},
     "output_type": "display_data"
    }
   ],
   "source": [
    "# 数组删除一个元素\n",
    "\n",
    "pop!(arr1)\n"
   ]
  },
  {
   "cell_type": "code",
   "execution_count": 66,
   "id": "73ad6087",
   "metadata": {},
   "outputs": [],
   "source": [
    "# 删除数组最后的一个元素"
   ]
  },
  {
   "cell_type": "code",
   "execution_count": 67,
   "id": "3937c83c",
   "metadata": {},
   "outputs": [
    {
     "data": {
      "text/plain": [
       "13-element Vector{Int64}:\n",
       "  19\n",
       "  76\n",
       " 100\n",
       "  33\n",
       "   1\n",
       "  39\n",
       "  86\n",
       "  87\n",
       "  24\n",
       "  16\n",
       "   9\n",
       "  36\n",
       "  21"
      ]
     },
     "metadata": {},
     "output_type": "display_data"
    }
   ],
   "source": [
    "arr"
   ]
  },
  {
   "cell_type": "code",
   "execution_count": 68,
   "id": "c6fb8e47",
   "metadata": {},
   "outputs": [
    {
     "data": {
      "text/plain": [
       "21"
      ]
     },
     "metadata": {},
     "output_type": "display_data"
    }
   ],
   "source": [
    "pop!(arr)"
   ]
  },
  {
   "cell_type": "code",
   "execution_count": 69,
   "id": "0c5e4c6b",
   "metadata": {},
   "outputs": [
    {
     "data": {
      "text/plain": [
       "12-element Vector{Int64}:\n",
       "  19\n",
       "  76\n",
       " 100\n",
       "  33\n",
       "   1\n",
       "  39\n",
       "  86\n",
       "  87\n",
       "  24\n",
       "  16\n",
       "   9\n",
       "  36"
      ]
     },
     "metadata": {},
     "output_type": "display_data"
    }
   ],
   "source": [
    "arr"
   ]
  },
  {
   "cell_type": "code",
   "execution_count": 80,
   "id": "9686ecb5",
   "metadata": {},
   "outputs": [
    {
     "data": {
      "text/plain": [
       "(1, 2, 3, 4, 5)"
      ]
     },
     "metadata": {},
     "output_type": "display_data"
    }
   ],
   "source": [
    "# 元组\n",
    "tupl = (1,2,3,4,5)"
   ]
  },
  {
   "cell_type": "code",
   "execution_count": 88,
   "id": "ff19c0bd",
   "metadata": {},
   "outputs": [
    {
     "name": "stdout",
     "output_type": "stream",
     "text": [
      "(1, 2, 3)\n",
      "(1, 2, 3)\n",
      "(1, 2, 3)\n",
      "(1, 2, 3)\n",
      "(1, 2, 3, 4, 5, 6, 7, 8, 9, 10)\n"
     ]
    }
   ],
   "source": [
    "# 创建一个元组\n",
    "# 使用逗号创建\n",
    "tup1 = 1,2,3\n",
    "println(tup1)\n",
    "# 使用括号创建\n",
    "tup2 = (1, 2,3)\n",
    "println(tup2)\n",
    "# 直接使用tuple函数\n",
    "println(tuple(1,2,3))\n",
    "# 将数组转换为元组\n",
    "println(tuple([1,2,3]...))\n",
    "# 使用collect函数\n",
    "println(tuple(collect(1:10)...))"
   ]
  },
  {
   "cell_type": "code",
   "execution_count": 91,
   "id": "91286f69",
   "metadata": {},
   "outputs": [
    {
     "data": {
      "text/plain": [
       "1"
      ]
     },
     "metadata": {},
     "output_type": "display_data"
    }
   ],
   "source": [
    "# 使用索引查询元组中的元素\n",
    "tup1[1]"
   ]
  },
  {
   "cell_type": "code",
   "execution_count": 92,
   "id": "4866c6bc",
   "metadata": {},
   "outputs": [
    {
     "name": "stdout",
     "output_type": "stream",
     "text": [
      "1\n",
      "2\n",
      "3\n"
     ]
    }
   ],
   "source": [
    "# 遍历一个元组\n",
    "for ele in tup1\n",
    "    println(ele)\n",
    "end"
   ]
  },
  {
   "cell_type": "code",
   "execution_count": 93,
   "id": "c177ba96",
   "metadata": {},
   "outputs": [
    {
     "name": "stdout",
     "output_type": "stream",
     "text": [
      "1\n",
      "2\n"
     ]
    }
   ],
   "source": [
    "# 遍历一个数组\n",
    "for i in arr1\n",
    "    println(i)\n",
    "end"
   ]
  },
  {
   "cell_type": "code",
   "execution_count": 99,
   "id": "4f2a5bf1",
   "metadata": {},
   "outputs": [
    {
     "data": {
      "text/plain": [
       "(5, 6, 7, 8, 9, 10)"
      ]
     },
     "metadata": {},
     "output_type": "display_data"
    }
   ],
   "source": [
    "# 从元组中筛选元素\n",
    "tup = tuple(1:10...)\n",
    "filter(x -> x>=5, tup)"
   ]
  },
  {
   "cell_type": "code",
   "execution_count": 107,
   "id": "5d3f3d62",
   "metadata": {},
   "outputs": [
    {
     "name": "stdout",
     "output_type": "stream",
     "text": [
      "[1, 2, 3, 4, 5, 6, 7, 8, 9, 10]\n",
      "[2, 4, 6, 8, 10, 12, 14, 16, 18, 20][3, 6, 9, 12, 15, 18, 21, 24, 27, 30]\n"
     ]
    },
    {
     "ename": "ArgumentError",
     "evalue": "ArgumentError: map! requires at least one \"source\" argument",
     "output_type": "error",
     "traceback": [
      "ArgumentError: map! requires at least one \"source\" argument\n",
      "\n",
      "Stacktrace:\n",
      " [1] map!(::var\"#78#82\", ::Vector{Int64})\n",
      "   @ Base ./abstractarray.jl:3380\n",
      " [2] (::var\"#77#81\")(x::Vector{Int64})\n",
      "   @ Main ~/workspace/projects/notebooks/Julia菜鸟教程/jl_notebook_cell_df34fa98e69747e1a8f8a730347b8e2f_X60sZmlsZQ==.jl:10\n",
      " [3] |>(x::Vector{Int64}, f::var\"#77#81\")\n",
      "   @ Base ./operators.jl:917\n",
      " [4] top-level scope\n",
      "   @ ~/workspace/projects/notebooks/Julia菜鸟教程/jl_notebook_cell_df34fa98e69747e1a8f8a730347b8e2f_X60sZmlsZQ==.jl:9"
     ]
    }
   ],
   "source": [
    "# 改变数组中的每一个元素\n",
    "# 广播\n",
    "arr = collect(1:10)\n",
    "println(arr)\n",
    "print(arr.*2)\n",
    "# 使用map函数\n",
    "println(map(x -> x * 3, arr))\n"
   ]
  },
  {
   "cell_type": "code",
   "execution_count": 113,
   "id": "be8c2a51",
   "metadata": {},
   "outputs": [
    {
     "name": "stdout",
     "output_type": "stream",
     "text": [
      "[14, 20, 30]\n"
     ]
    }
   ],
   "source": [
    "arr = [1, 5, 7, 10, 15]\n",
    "\n",
    "# 创建一个新的数组来存储 map! 的结果\n",
    "result = similar(arr)\n",
    "\n",
    "# 使用链式调用\n",
    "final_result = arr |>\n",
    "    x -> map!(y -> y * 2, result, x) |>\n",
    "    x -> filter!(y -> y > 10, x)\n",
    "\n",
    "println(final_result)  # 输出: [14, 20, 30]\n"
   ]
  },
  {
   "cell_type": "code",
   "execution_count": 111,
   "id": "c8142ac6",
   "metadata": {},
   "outputs": [
    {
     "data": {
      "text/plain": [
       "5-element Vector{Int64}:\n",
       "  1\n",
       "  5\n",
       "  7\n",
       " 10\n",
       " 15"
      ]
     },
     "metadata": {},
     "output_type": "display_data"
    }
   ],
   "source": [
    "arr"
   ]
  },
  {
   "cell_type": "code",
   "execution_count": 115,
   "id": "db9ba5e4",
   "metadata": {},
   "outputs": [
    {
     "data": {
      "text/plain": [
       "5-element Vector{Int64}:\n",
       "  2\n",
       " 10\n",
       " 14\n",
       " 20\n",
       " 30"
      ]
     },
     "metadata": {},
     "output_type": "display_data"
    }
   ],
   "source": [
    "# 数组推导式\n",
    "arr1 = [i* 2 for i in arr]"
   ]
  },
  {
   "cell_type": "code",
   "execution_count": 116,
   "id": "0291e118",
   "metadata": {},
   "outputs": [
    {
     "data": {
      "text/plain": [
       "3-element Vector{@NamedTuple{name::String, age::Int64, city::String}}:\n",
       " (name = \"Alice\", age = 30, city = \"New York\")\n",
       " (name = \"Bob\", age = 25, city = \"San Francisco\")\n",
       " (name = \"Charlie\", age = 35, city = \"Los Angeles\")"
      ]
     },
     "metadata": {},
     "output_type": "display_data"
    }
   ],
   "source": [
    "people = [\n",
    "    (name = \"Alice\", age = 30, city = \"New York\"),\n",
    "    (name = \"Bob\", age = 25, city = \"San Francisco\"),\n",
    "    (name = \"Charlie\", age = 35, city = \"Los Angeles\")\n",
    "]\n"
   ]
  },
  {
   "cell_type": "code",
   "execution_count": 117,
   "id": "22a05a1e",
   "metadata": {},
   "outputs": [],
   "source": [
    "using   DataFrames"
   ]
  },
  {
   "cell_type": "code",
   "execution_count": 118,
   "id": "c77d841e",
   "metadata": {},
   "outputs": [
    {
     "data": {
      "text/html": [
       "<div><div style = \"float: left;\"><span>3×3 DataFrame</span></div><div style = \"clear: both;\"></div></div><div class = \"data-frame\" style = \"overflow-x: scroll;\"><table class = \"data-frame\" style = \"margin-bottom: 6px;\"><thead><tr class = \"header\"><th class = \"rowNumber\" style = \"font-weight: bold; text-align: right;\">Row</th><th style = \"text-align: left;\">name</th><th style = \"text-align: left;\">age</th><th style = \"text-align: left;\">city</th></tr><tr class = \"subheader headerLastRow\"><th class = \"rowNumber\" style = \"font-weight: bold; text-align: right;\"></th><th title = \"String\" style = \"text-align: left;\">String</th><th title = \"Int64\" style = \"text-align: left;\">Int64</th><th title = \"String\" style = \"text-align: left;\">String</th></tr></thead><tbody><tr><td class = \"rowNumber\" style = \"font-weight: bold; text-align: right;\">1</td><td style = \"text-align: left;\">Alice</td><td style = \"text-align: right;\">30</td><td style = \"text-align: left;\">New York</td></tr><tr><td class = \"rowNumber\" style = \"font-weight: bold; text-align: right;\">2</td><td style = \"text-align: left;\">Bob</td><td style = \"text-align: right;\">25</td><td style = \"text-align: left;\">San Francisco</td></tr><tr><td class = \"rowNumber\" style = \"font-weight: bold; text-align: right;\">3</td><td style = \"text-align: left;\">Charlie</td><td style = \"text-align: right;\">35</td><td style = \"text-align: left;\">Los Angeles</td></tr></tbody></table></div>"
      ],
      "text/latex": [
       "\\begin{tabular}{r|ccc}\n",
       "\t& name & age & city\\\\\n",
       "\t\\hline\n",
       "\t& String & Int64 & String\\\\\n",
       "\t\\hline\n",
       "\t1 & Alice & 30 & New York \\\\\n",
       "\t2 & Bob & 25 & San Francisco \\\\\n",
       "\t3 & Charlie & 35 & Los Angeles \\\\\n",
       "\\end{tabular}\n"
      ],
      "text/plain": [
       "\u001b[1m3×3 DataFrame\u001b[0m\n",
       "\u001b[1m Row \u001b[0m│\u001b[1m name    \u001b[0m\u001b[1m age   \u001b[0m\u001b[1m city          \u001b[0m\n",
       "     │\u001b[90m String  \u001b[0m\u001b[90m Int64 \u001b[0m\u001b[90m String        \u001b[0m\n",
       "─────┼───────────────────────────────\n",
       "   1 │ Alice       30  New York\n",
       "   2 │ Bob         25  San Francisco\n",
       "   3 │ Charlie     35  Los Angeles"
      ]
     },
     "metadata": {},
     "output_type": "display_data"
    }
   ],
   "source": [
    "DataFrame(people)"
   ]
  },
  {
   "cell_type": "code",
   "execution_count": 120,
   "id": "451c166c",
   "metadata": {},
   "outputs": [
    {
     "data": {
      "text/plain": [
       "(name = \"Bee\", age = 30, height = 173.5, weight = 74.2)"
      ]
     },
     "metadata": {},
     "output_type": "display_data"
    }
   ],
   "source": [
    "# named tuple\n",
    "tup = (\n",
    "    name = \"Bee\",\n",
    "    age = 30,\n",
    "    height = 173.5,\n",
    "    weight = 74.2\n",
    ")"
   ]
  },
  {
   "cell_type": "code",
   "execution_count": 121,
   "id": "de5318aa",
   "metadata": {},
   "outputs": [
    {
     "data": {
      "text/plain": [
       "\"Bee\""
      ]
     },
     "metadata": {},
     "output_type": "display_data"
    }
   ],
   "source": [
    "# 具名元组的查询\n",
    "tup.name"
   ]
  },
  {
   "cell_type": "code",
   "execution_count": 123,
   "id": "9d57f700",
   "metadata": {},
   "outputs": [
    {
     "data": {
      "text/plain": [
       "30"
      ]
     },
     "metadata": {},
     "output_type": "display_data"
    }
   ],
   "source": [
    "tup.age"
   ]
  },
  {
   "cell_type": "code",
   "execution_count": 126,
   "id": "a525c44d",
   "metadata": {},
   "outputs": [
    {
     "data": {
      "text/html": [
       "<div><div style = \"float: left;\"><span>1×4 DataFrame</span></div><div style = \"clear: both;\"></div></div><div class = \"data-frame\" style = \"overflow-x: scroll;\"><table class = \"data-frame\" style = \"margin-bottom: 6px;\"><thead><tr class = \"header\"><th class = \"rowNumber\" style = \"font-weight: bold; text-align: right;\">Row</th><th style = \"text-align: left;\">name</th><th style = \"text-align: left;\">age</th><th style = \"text-align: left;\">height</th><th style = \"text-align: left;\">weight</th></tr><tr class = \"subheader headerLastRow\"><th class = \"rowNumber\" style = \"font-weight: bold; text-align: right;\"></th><th title = \"String\" style = \"text-align: left;\">String</th><th title = \"Int64\" style = \"text-align: left;\">Int64</th><th title = \"Float64\" style = \"text-align: left;\">Float64</th><th title = \"Float64\" style = \"text-align: left;\">Float64</th></tr></thead><tbody><tr><td class = \"rowNumber\" style = \"font-weight: bold; text-align: right;\">1</td><td style = \"text-align: left;\">Bee</td><td style = \"text-align: right;\">30</td><td style = \"text-align: right;\">173.5</td><td style = \"text-align: right;\">74.2</td></tr></tbody></table></div>"
      ],
      "text/latex": [
       "\\begin{tabular}{r|cccc}\n",
       "\t& name & age & height & weight\\\\\n",
       "\t\\hline\n",
       "\t& String & Int64 & Float64 & Float64\\\\\n",
       "\t\\hline\n",
       "\t1 & Bee & 30 & 173.5 & 74.2 \\\\\n",
       "\\end{tabular}\n"
      ],
      "text/plain": [
       "\u001b[1m1×4 DataFrame\u001b[0m\n",
       "\u001b[1m Row \u001b[0m│\u001b[1m name   \u001b[0m\u001b[1m age   \u001b[0m\u001b[1m height  \u001b[0m\u001b[1m weight  \u001b[0m\n",
       "     │\u001b[90m String \u001b[0m\u001b[90m Int64 \u001b[0m\u001b[90m Float64 \u001b[0m\u001b[90m Float64 \u001b[0m\n",
       "─────┼─────────────────────────────────\n",
       "   1 │ Bee        30    173.5     74.2"
      ]
     },
     "metadata": {},
     "output_type": "display_data"
    }
   ],
   "source": [
    "df =DataFrame([tup])"
   ]
  },
  {
   "cell_type": "code",
   "execution_count": 127,
   "id": "932eec53",
   "metadata": {},
   "outputs": [
    {
     "name": "stdout",
     "output_type": "stream",
     "text": [
      "Bee\n",
      "30\n",
      "173.5\n",
      "74.2\n"
     ]
    }
   ],
   "source": [
    "# 便利具名元组\n",
    "for i in tup\n",
    "    println(i)\n",
    "end"
   ]
  },
  {
   "cell_type": "code",
   "execution_count": 128,
   "id": "2afeca35",
   "metadata": {},
   "outputs": [
    {
     "name": "stdout",
     "output_type": "stream",
     "text": [
      "name\n",
      "age\n",
      "height\n",
      "weight\n"
     ]
    }
   ],
   "source": [
    "# 遍历具名元组的键\n",
    "for key in keys(tup)\n",
    "    println(key)\n",
    "end"
   ]
  },
  {
   "cell_type": "code",
   "execution_count": 132,
   "id": "791b3c6c",
   "metadata": {},
   "outputs": [
    {
     "data": {
      "text/plain": [
       "Dict{String, Any} with 3 entries:\n",
       "  \"name\"   => \"Bee\"\n",
       "  \"height\" => 173.5\n",
       "  \"age\"    => 30"
      ]
     },
     "metadata": {},
     "output_type": "display_data"
    }
   ],
   "source": [
    "# 创建一个字典\n",
    "my_dic = Dict(\n",
    "    \"name\"=>\"Bee\",\n",
    "    \"age\"=>30,\n",
    "    \"height\"=>173.5\n",
    ")"
   ]
  },
  {
   "cell_type": "code",
   "execution_count": null,
   "id": "35dc3e93",
   "metadata": {},
   "outputs": [],
   "source": []
  },
  {
   "cell_type": "code",
   "execution_count": 133,
   "id": "17e6c17b",
   "metadata": {},
   "outputs": [
    {
     "data": {
      "text/plain": [
       "\"Bee\""
      ]
     },
     "metadata": {},
     "output_type": "display_data"
    }
   ],
   "source": [
    "my_dic[\"name\"]"
   ]
  },
  {
   "cell_type": "code",
   "execution_count": 134,
   "id": "3d821925",
   "metadata": {},
   "outputs": [
    {
     "name": "stdout",
     "output_type": "stream",
     "text": [
      "Key: name, Value: Bee\n",
      "Key: height, Value: 173.5\n",
      "Key: age, Value: 30\n"
     ]
    }
   ],
   "source": [
    "# 遍历一个字典\n",
    "for (k, v) in my_dic\n",
    "    println(\"Key: $k, Value: $v\")\n",
    "end"
   ]
  },
  {
   "cell_type": "code",
   "execution_count": 138,
   "id": "173dd2e7",
   "metadata": {},
   "outputs": [
    {
     "ename": "MethodError",
     "evalue": "MethodError: no method matching getindex(::DataFrame, ::typeof(!), ::Bool)\n\nClosest candidates are:\n  getindex(::DataFrame, ::typeof(!), !Matched::Union{Colon, Regex, All, Between, Cols, InvertedIndex, AbstractVector})\n   @ DataFrames ~/.julia/packages/DataFrames/kcA9R/src/dataframe/dataframe.jl:631\n  getindex(::DataFrame, ::typeof(!), !Matched::Union{Signed, Unsigned})\n   @ DataFrames ~/.julia/packages/DataFrames/kcA9R/src/dataframe/dataframe.jl:548\n  getindex(::DataFrame, ::typeof(!), !Matched::Union{AbstractString, Symbol})\n   @ DataFrames ~/.julia/packages/DataFrames/kcA9R/src/dataframe/dataframe.jl:556\n  ...\n",
     "output_type": "error",
     "traceback": [
      "MethodError: no method matching getindex(::DataFrame, ::typeof(!), ::Bool)\n",
      "\n",
      "Closest candidates are:\n",
      "  getindex(::DataFrame, ::typeof(!), !Matched::Union{Colon, Regex, All, Between, Cols, InvertedIndex, AbstractVector})\n",
      "   @ DataFrames ~/.julia/packages/DataFrames/kcA9R/src/dataframe/dataframe.jl:631\n",
      "  getindex(::DataFrame, ::typeof(!), !Matched::Union{Signed, Unsigned})\n",
      "   @ DataFrames ~/.julia/packages/DataFrames/kcA9R/src/dataframe/dataframe.jl:548\n",
      "  getindex(::DataFrame, ::typeof(!), !Matched::Union{AbstractString, Symbol})\n",
      "   @ DataFrames ~/.julia/packages/DataFrames/kcA9R/src/dataframe/dataframe.jl:556\n",
      "  ...\n",
      "\n",
      "\n",
      "Stacktrace:\n",
      " [1] top-level scope\n",
      "   @ ~/workspace/projects/notebooks/Julia菜鸟教程/jl_notebook_cell_df34fa98e69747e1a8f8a730347b8e2f_Y112sZmlsZQ==.jl:2"
     ]
    }
   ],
   "source": [
    "using DataFrames\n",
    "df[!,:name == \"Bee\"]\n"
   ]
  },
  {
   "cell_type": "code",
   "execution_count": null,
   "id": "a3381f9f",
   "metadata": {},
   "outputs": [],
   "source": []
  }
 ],
 "metadata": {
  "kernelspec": {
   "display_name": "Julia 1.10.6",
   "language": "julia",
   "name": "julia-1.10"
  },
  "language_info": {
   "file_extension": ".jl",
   "mimetype": "application/julia",
   "name": "julia",
   "version": "1.10.6"
  }
 },
 "nbformat": 4,
 "nbformat_minor": 5
}
